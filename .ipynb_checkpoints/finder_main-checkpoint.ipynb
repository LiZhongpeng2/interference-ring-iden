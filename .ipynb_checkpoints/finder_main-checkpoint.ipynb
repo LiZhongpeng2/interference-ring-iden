{
 "cells": [
  {
   "cell_type": "code",
   "execution_count": null,
   "id": "8297bd20-33da-4786-83e1-002050fcf09b",
   "metadata": {},
   "outputs": [],
   "source": [
    "import cv2\n",
    "import numpy as np\n",
    "import finder\n",
    "from matplotlib import pyplot as plt"
   ]
  },
  {
   "cell_type": "code",
   "execution_count": null,
   "id": "2ef423b8",
   "metadata": {},
   "outputs": [],
   "source": [
    "img = cv2.imread(\"test/img.png\")\n",
    "gray = cv2.cvtColor(img, cv2.COLOR_BGR2GRAY)\n",
    "blur = cv2.GaussianBlur(gray, (5,5), 0)"
   ]
  },
  {
   "cell_type": "markdown",
   "id": "bf056d41",
   "metadata": {},
   "source": [
    "# pre processing\n",
    "- read img file\n",
    "- transform to gray img\n",
    "- Gaussian blur processing\n",
    "  \n",
    "_the keneral of blur is 5*5_"
   ]
  }
 ],
 "metadata": {
  "kernelspec": {
   "display_name": "Python 3 (ipykernel)",
   "language": "python",
   "name": "python3"
  },
  "language_info": {
   "codemirror_mode": {
    "name": "ipython",
    "version": 3
   },
   "file_extension": ".py",
   "mimetype": "text/x-python",
   "name": "python",
   "nbconvert_exporter": "python",
   "pygments_lexer": "ipython3",
   "version": "3.11.8"
  }
 },
 "nbformat": 4,
 "nbformat_minor": 5
}
