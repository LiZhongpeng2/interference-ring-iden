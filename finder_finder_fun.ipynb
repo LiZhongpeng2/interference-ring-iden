{
 "cells": [
  {
   "cell_type": "markdown",
   "id": "0e4470a0",
   "metadata": {},
   "source": [
    "### Circle Center Detection Function\n",
    "\n",
    "The circle center detection is based on a **normal intersection voting method**:\n",
    "\n",
    "1. **Edge Extraction**: First, we extract the edges of the cleaned binary image using Canny edge detection to identify potential boundary points of the circular pattern.\n",
    "\n",
    "2. **Gradient Calculation**: For each edge pixel, we compute the gradient vector (using Sobel operators) which represents the direction of intensity change and helps determine the edge normal direction.\n",
    "\n",
    "3. **Voting along Normals**: Each edge point votes for possible circle centers by projecting votes along the normal directions (both inward and outward) within a defined radius range. This accumulates votes in an accumulator space.\n",
    "\n",
    "4. **Finding the Peak Vote**: The pixel with the highest vote count in the accumulator is selected as the estimated circle center, since normals from many edge points intersect there.\n",
    "\n",
    "This method is robust to noise and slight shape distortions, making it suitable for detecting approximate geometric centers in interference fringe patterns or similar circular features.\n",
    "\n",
    "\n",
    "After multiple rounds of testing and parameter tuning, this voting-based circle center detection method consistently delivers reliable and accurate results. The accumulator heatmap clearly highlights the peak vote region, and the detected center aligns well with the visual center of the circular patterns.\n",
    "\n",
    "The following figures illustrate typical detection outcomes, demonstrating the method’s robustness and effectiveness across varied samples and noise conditions.\n",
    "\n",
    "![result](./image/finder.png)"
   ]
  },
  {
   "cell_type": "markdown",
   "id": "31a1ddc1",
   "metadata": {},
   "source": [
    "### Edge Detection (Canny)\n",
    "\n",
    "- Use the Canny edge detector to extract edge points from the cleaned binary image.\n",
    "- These edge points are candidates for the circle boundary.\n",
    "- Parameters 50 and 150 are thresholds for edge linking and hysteresis."
   ]
  },
  {
   "cell_type": "markdown",
   "id": "505b3ef7",
   "metadata": {},
   "source": [
    "### Gradient Calculation (Sobel)\n",
    "\n",
    "- Calculate the gradient in X and Y directions to estimate the edge orientation.\n",
    "- These gradients are essential for computing the **normal vectors** at edge points.\n",
    "- Kernel size 5 smooths gradients to reduce noise influence.\n"
   ]
  },
  {
   "cell_type": "markdown",
   "id": "51db38f1",
   "metadata": {},
   "source": [
    "### Accumulator Initialization\n",
    "\n",
    "- Create a 2D accumulator array matching the image size to store votes.\n",
    "- Each pixel in this array will accumulate votes from edge points pointing towards possible centers.\n"
   ]
  },
  {
   "cell_type": "markdown",
   "id": "c0a0c30f",
   "metadata": {},
   "source": [
    "### Edge Points Extraction\n",
    "\n",
    "- Extract coordinates `(y, x)` of all edge pixels detected by Canny.\n",
    "- These points will be used to cast votes in the accumulator.\n"
   ]
  },
  {
   "cell_type": "markdown",
   "id": "29111abe",
   "metadata": {},
   "source": [
    "### Voting Along Normals\n",
    "\n",
    "- For each edge point, compute the normalized gradient vector (normal to the edge).\n",
    "- Cast votes along the positive and negative normal directions for possible centers.\n",
    "- Voting range is from `min_radius` to `max_radius`, stepping pixel by pixel.\n",
    "- Each valid accumulator pixel gets one vote.\n",
    "- This accumulates evidence of circle centers where normals from multiple edge points intersect.\n"
   ]
  },
  {
   "cell_type": "markdown",
   "id": "7eaa65fb",
   "metadata": {},
   "source": [
    "### Detecting the Peak in Accumulator\n",
    "\n",
    "- Find the location with the highest vote count in the accumulator.\n",
    "- This location corresponds to the most likely circle center.\n"
   ]
  },
  {
   "cell_type": "code",
   "execution_count": null,
   "id": "e74a8290",
   "metadata": {},
   "outputs": [],
   "source": [
    "import cv2\n",
    "import numpy as np\n",
    "import matplotlib.pyplot as plt\n",
    "\n",
    "def find_circle_center_voting(clean_img, min_radius=10, max_radius=None):\n",
    "    if max_radius is None:\n",
    "        max_radius = int(min(clean_img.shape) * 0.5)  #70%\n",
    "\n",
    "    edges = cv2.Canny(clean_img, 50, 150)\n",
    "\n",
    "    sobel_x = cv2.Sobel(clean_img, cv2.CV_64F, 1, 0, ksize=5)\n",
    "    sobel_y = cv2.Sobel(clean_img, cv2.CV_64F, 0, 1, ksize=5)\n",
    "\n",
    "    accumulator = np.zeros_like(clean_img, dtype=np.float32)\n",
    "\n",
    "    edge_points = np.column_stack(np.where(edges > 0))\n",
    "\n",
    "    #vote\n",
    "    for y, x in edge_points:\n",
    "        # Gradient Vector\n",
    "        gx = sobel_x[y, x]\n",
    "        gy = sobel_y[y, x]\n",
    "\n",
    "        mag = np.sqrt(gx ** 2 + gy ** 2)\n",
    "\n",
    "        if mag < 1e-5:\n",
    "            continue\n",
    "        \n",
    "        # Normalization\n",
    "        nx = gx / mag\n",
    "        ny = gy / mag\n",
    "\n",
    "        for direction in [-1, 1]:\n",
    "\n",
    "            for r in range(min_radius, max_radius + 1): \n",
    "                cx = int(x + direction * r * nx)\n",
    "                cy = int(y + direction * r * ny)\n",
    "\n",
    "                if 0 <= cy < accumulator.shape[0] and 0 <= cx < accumulator.shape[1]:\n",
    "                    accumulator[cy, cx] += 1\n",
    "\n",
    "    # find center(max of voting result)\n",
    "    _, _, _, max_loc = cv2.minMaxLoc(accumulator)\n",
    "    center_x, center_y = max_loc\n",
    "\n",
    "    plt.figure(figsize=(10, 5))\n",
    "    plt.subplot(121), plt.imshow(accumulator, cmap='hot'), plt.title('Accumulator Space')\n",
    "    plt.subplot(122), plt.imshow(cv2.cvtColor(clean_img, cv2.COLOR_GRAY2RGB))\n",
    "    plt.scatter(center_x, center_y, s=100, c='red', marker='+')\n",
    "    plt.title('Detected Center')\n",
    "    plt.show()\n",
    "\n",
    "    return center_x, center_y"
   ]
  }
 ],
 "metadata": {
  "kernelspec": {
   "display_name": "Python 3",
   "language": "python",
   "name": "python3"
  },
  "language_info": {
   "codemirror_mode": {
    "name": "ipython",
    "version": 3
   },
   "file_extension": ".py",
   "mimetype": "text/x-python",
   "name": "python",
   "nbconvert_exporter": "python",
   "pygments_lexer": "ipython3",
   "version": "3.11.8"
  }
 },
 "nbformat": 4,
 "nbformat_minor": 5
}
